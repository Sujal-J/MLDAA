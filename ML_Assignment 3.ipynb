{
 "cells": [
  {
   "cell_type": "markdown",
   "id": "1803f417",
   "metadata": {
    "id": "1803f417"
   },
   "source": [
    "# Given a bank customer, build a neural network-based classifier that can determine whether they will leave or not in the next 6 months.\n",
    "Dataset Description: The case study is from an open-source dataset from Kaggle. The dataset contains 10,000 sample points with 14 distinct features such as CustomerId, CreditScore, Geography, Gender, Age, Tenure, Balance, etc.\n",
    "Link to the Kaggle project: https://www.kaggle.com/barelydedicated/bank-customer-churn-modeling Perform following steps:\n",
    "1.\tRead the dataset.\n",
    "2.\tDistinguish the feature and target set and divide the data set into training and test sets.\n",
    "3.\tNormalize the train and test data.\n",
    "4.\tInitialize and build the model. Identify the points of improvement and implement the same.\n",
    "5.\tPrint the accuracy score and confusion matrix.\n",
    " "
   ]
  },
  {
   "cell_type": "code",
   "execution_count": 1,
   "id": "1c7a9833",
   "metadata": {
    "id": "1c7a9833"
   },
   "outputs": [],
   "source": [
    "import pandas as pd\n",
    "import numpy as np\n",
    "import seaborn as sns\n",
    "import matplotlib.pyplot as plt #Importing the libraries"
   ]
  },
  {
   "cell_type": "code",
   "execution_count": 2,
   "id": "5e325ee1",
   "metadata": {
    "id": "5e325ee1"
   },
   "outputs": [],
   "source": [
    "df = pd.read_csv(\"Churn_Modelling.csv\")"
   ]
  },
  {
   "cell_type": "markdown",
   "id": "96e1c556",
   "metadata": {
    "id": "96e1c556"
   },
   "source": [
    "# Preprocessing. "
   ]
  },
  {
   "cell_type": "code",
   "execution_count": 3,
   "id": "ae17ce38",
   "metadata": {
    "id": "ae17ce38",
    "outputId": "73c1f6a4-8973-4d59-d9b5-f0e95f35cc9b"
   },
   "outputs": [
    {
     "data": {
      "text/html": [
       "<div>\n",
       "<style scoped>\n",
       "    .dataframe tbody tr th:only-of-type {\n",
       "        vertical-align: middle;\n",
       "    }\n",
       "\n",
       "    .dataframe tbody tr th {\n",
       "        vertical-align: top;\n",
       "    }\n",
       "\n",
       "    .dataframe thead th {\n",
       "        text-align: right;\n",
       "    }\n",
       "</style>\n",
       "<table border=\"1\" class=\"dataframe\">\n",
       "  <thead>\n",
       "    <tr style=\"text-align: right;\">\n",
       "      <th></th>\n",
       "      <th>RowNumber</th>\n",
       "      <th>CustomerId</th>\n",
       "      <th>Surname</th>\n",
       "      <th>CreditScore</th>\n",
       "      <th>Geography</th>\n",
       "      <th>Gender</th>\n",
       "      <th>Age</th>\n",
       "      <th>Tenure</th>\n",
       "      <th>Balance</th>\n",
       "      <th>NumOfProducts</th>\n",
       "      <th>HasCrCard</th>\n",
       "      <th>IsActiveMember</th>\n",
       "      <th>EstimatedSalary</th>\n",
       "      <th>Exited</th>\n",
       "    </tr>\n",
       "  </thead>\n",
       "  <tbody>\n",
       "    <tr>\n",
       "      <th>0</th>\n",
       "      <td>1</td>\n",
       "      <td>15634602</td>\n",
       "      <td>Hargrave</td>\n",
       "      <td>619</td>\n",
       "      <td>France</td>\n",
       "      <td>Female</td>\n",
       "      <td>42</td>\n",
       "      <td>2</td>\n",
       "      <td>0.00</td>\n",
       "      <td>1</td>\n",
       "      <td>1</td>\n",
       "      <td>1</td>\n",
       "      <td>101348.88</td>\n",
       "      <td>1</td>\n",
       "    </tr>\n",
       "    <tr>\n",
       "      <th>1</th>\n",
       "      <td>2</td>\n",
       "      <td>15647311</td>\n",
       "      <td>Hill</td>\n",
       "      <td>608</td>\n",
       "      <td>Spain</td>\n",
       "      <td>Female</td>\n",
       "      <td>41</td>\n",
       "      <td>1</td>\n",
       "      <td>83807.86</td>\n",
       "      <td>1</td>\n",
       "      <td>0</td>\n",
       "      <td>1</td>\n",
       "      <td>112542.58</td>\n",
       "      <td>0</td>\n",
       "    </tr>\n",
       "    <tr>\n",
       "      <th>2</th>\n",
       "      <td>3</td>\n",
       "      <td>15619304</td>\n",
       "      <td>Onio</td>\n",
       "      <td>502</td>\n",
       "      <td>France</td>\n",
       "      <td>Female</td>\n",
       "      <td>42</td>\n",
       "      <td>8</td>\n",
       "      <td>159660.80</td>\n",
       "      <td>3</td>\n",
       "      <td>1</td>\n",
       "      <td>0</td>\n",
       "      <td>113931.57</td>\n",
       "      <td>1</td>\n",
       "    </tr>\n",
       "    <tr>\n",
       "      <th>3</th>\n",
       "      <td>4</td>\n",
       "      <td>15701354</td>\n",
       "      <td>Boni</td>\n",
       "      <td>699</td>\n",
       "      <td>France</td>\n",
       "      <td>Female</td>\n",
       "      <td>39</td>\n",
       "      <td>1</td>\n",
       "      <td>0.00</td>\n",
       "      <td>2</td>\n",
       "      <td>0</td>\n",
       "      <td>0</td>\n",
       "      <td>93826.63</td>\n",
       "      <td>0</td>\n",
       "    </tr>\n",
       "    <tr>\n",
       "      <th>4</th>\n",
       "      <td>5</td>\n",
       "      <td>15737888</td>\n",
       "      <td>Mitchell</td>\n",
       "      <td>850</td>\n",
       "      <td>Spain</td>\n",
       "      <td>Female</td>\n",
       "      <td>43</td>\n",
       "      <td>2</td>\n",
       "      <td>125510.82</td>\n",
       "      <td>1</td>\n",
       "      <td>1</td>\n",
       "      <td>1</td>\n",
       "      <td>79084.10</td>\n",
       "      <td>0</td>\n",
       "    </tr>\n",
       "  </tbody>\n",
       "</table>\n",
       "</div>"
      ],
      "text/plain": [
       "   RowNumber  CustomerId   Surname  CreditScore Geography  Gender  Age  \\\n",
       "0          1    15634602  Hargrave          619    France  Female   42   \n",
       "1          2    15647311      Hill          608     Spain  Female   41   \n",
       "2          3    15619304      Onio          502    France  Female   42   \n",
       "3          4    15701354      Boni          699    France  Female   39   \n",
       "4          5    15737888  Mitchell          850     Spain  Female   43   \n",
       "\n",
       "   Tenure    Balance  NumOfProducts  HasCrCard  IsActiveMember  \\\n",
       "0       2       0.00              1          1               1   \n",
       "1       1   83807.86              1          0               1   \n",
       "2       8  159660.80              3          1               0   \n",
       "3       1       0.00              2          0               0   \n",
       "4       2  125510.82              1          1               1   \n",
       "\n",
       "   EstimatedSalary  Exited  \n",
       "0        101348.88       1  \n",
       "1        112542.58       0  \n",
       "2        113931.57       1  \n",
       "3         93826.63       0  \n",
       "4         79084.10       0  "
      ]
     },
     "execution_count": 3,
     "metadata": {},
     "output_type": "execute_result"
    }
   ],
   "source": [
    "df.head()"
   ]
  },
  {
   "cell_type": "code",
   "execution_count": 4,
   "id": "13617c12",
   "metadata": {
    "id": "13617c12",
    "outputId": "d9b08e1d-bd53-4c19-c2ee-32f9e58812e5"
   },
   "outputs": [
    {
     "data": {
      "text/plain": [
       "(10000, 14)"
      ]
     },
     "execution_count": 4,
     "metadata": {},
     "output_type": "execute_result"
    }
   ],
   "source": [
    "df.shape"
   ]
  },
  {
   "cell_type": "code",
   "execution_count": 5,
   "id": "09a88d86",
   "metadata": {
    "id": "09a88d86",
    "outputId": "d7f80dea-fb71-4152-bc8b-d90cacf50945"
   },
   "outputs": [
    {
     "data": {
      "text/html": [
       "<div>\n",
       "<style scoped>\n",
       "    .dataframe tbody tr th:only-of-type {\n",
       "        vertical-align: middle;\n",
       "    }\n",
       "\n",
       "    .dataframe tbody tr th {\n",
       "        vertical-align: top;\n",
       "    }\n",
       "\n",
       "    .dataframe thead th {\n",
       "        text-align: right;\n",
       "    }\n",
       "</style>\n",
       "<table border=\"1\" class=\"dataframe\">\n",
       "  <thead>\n",
       "    <tr style=\"text-align: right;\">\n",
       "      <th></th>\n",
       "      <th>RowNumber</th>\n",
       "      <th>CustomerId</th>\n",
       "      <th>CreditScore</th>\n",
       "      <th>Age</th>\n",
       "      <th>Tenure</th>\n",
       "      <th>Balance</th>\n",
       "      <th>NumOfProducts</th>\n",
       "      <th>HasCrCard</th>\n",
       "      <th>IsActiveMember</th>\n",
       "      <th>EstimatedSalary</th>\n",
       "      <th>Exited</th>\n",
       "    </tr>\n",
       "  </thead>\n",
       "  <tbody>\n",
       "    <tr>\n",
       "      <th>count</th>\n",
       "      <td>10000.00000</td>\n",
       "      <td>1.000000e+04</td>\n",
       "      <td>10000.000000</td>\n",
       "      <td>10000.000000</td>\n",
       "      <td>10000.000000</td>\n",
       "      <td>10000.000000</td>\n",
       "      <td>10000.000000</td>\n",
       "      <td>10000.00000</td>\n",
       "      <td>10000.000000</td>\n",
       "      <td>10000.000000</td>\n",
       "      <td>10000.000000</td>\n",
       "    </tr>\n",
       "    <tr>\n",
       "      <th>mean</th>\n",
       "      <td>5000.50000</td>\n",
       "      <td>1.569094e+07</td>\n",
       "      <td>650.528800</td>\n",
       "      <td>38.921800</td>\n",
       "      <td>5.012800</td>\n",
       "      <td>76485.889288</td>\n",
       "      <td>1.530200</td>\n",
       "      <td>0.70550</td>\n",
       "      <td>0.515100</td>\n",
       "      <td>100090.239881</td>\n",
       "      <td>0.203700</td>\n",
       "    </tr>\n",
       "    <tr>\n",
       "      <th>std</th>\n",
       "      <td>2886.89568</td>\n",
       "      <td>7.193619e+04</td>\n",
       "      <td>96.653299</td>\n",
       "      <td>10.487806</td>\n",
       "      <td>2.892174</td>\n",
       "      <td>62397.405202</td>\n",
       "      <td>0.581654</td>\n",
       "      <td>0.45584</td>\n",
       "      <td>0.499797</td>\n",
       "      <td>57510.492818</td>\n",
       "      <td>0.402769</td>\n",
       "    </tr>\n",
       "    <tr>\n",
       "      <th>min</th>\n",
       "      <td>1.00000</td>\n",
       "      <td>1.556570e+07</td>\n",
       "      <td>350.000000</td>\n",
       "      <td>18.000000</td>\n",
       "      <td>0.000000</td>\n",
       "      <td>0.000000</td>\n",
       "      <td>1.000000</td>\n",
       "      <td>0.00000</td>\n",
       "      <td>0.000000</td>\n",
       "      <td>11.580000</td>\n",
       "      <td>0.000000</td>\n",
       "    </tr>\n",
       "    <tr>\n",
       "      <th>25%</th>\n",
       "      <td>2500.75000</td>\n",
       "      <td>1.562853e+07</td>\n",
       "      <td>584.000000</td>\n",
       "      <td>32.000000</td>\n",
       "      <td>3.000000</td>\n",
       "      <td>0.000000</td>\n",
       "      <td>1.000000</td>\n",
       "      <td>0.00000</td>\n",
       "      <td>0.000000</td>\n",
       "      <td>51002.110000</td>\n",
       "      <td>0.000000</td>\n",
       "    </tr>\n",
       "    <tr>\n",
       "      <th>50%</th>\n",
       "      <td>5000.50000</td>\n",
       "      <td>1.569074e+07</td>\n",
       "      <td>652.000000</td>\n",
       "      <td>37.000000</td>\n",
       "      <td>5.000000</td>\n",
       "      <td>97198.540000</td>\n",
       "      <td>1.000000</td>\n",
       "      <td>1.00000</td>\n",
       "      <td>1.000000</td>\n",
       "      <td>100193.915000</td>\n",
       "      <td>0.000000</td>\n",
       "    </tr>\n",
       "    <tr>\n",
       "      <th>75%</th>\n",
       "      <td>7500.25000</td>\n",
       "      <td>1.575323e+07</td>\n",
       "      <td>718.000000</td>\n",
       "      <td>44.000000</td>\n",
       "      <td>7.000000</td>\n",
       "      <td>127644.240000</td>\n",
       "      <td>2.000000</td>\n",
       "      <td>1.00000</td>\n",
       "      <td>1.000000</td>\n",
       "      <td>149388.247500</td>\n",
       "      <td>0.000000</td>\n",
       "    </tr>\n",
       "    <tr>\n",
       "      <th>max</th>\n",
       "      <td>10000.00000</td>\n",
       "      <td>1.581569e+07</td>\n",
       "      <td>850.000000</td>\n",
       "      <td>92.000000</td>\n",
       "      <td>10.000000</td>\n",
       "      <td>250898.090000</td>\n",
       "      <td>4.000000</td>\n",
       "      <td>1.00000</td>\n",
       "      <td>1.000000</td>\n",
       "      <td>199992.480000</td>\n",
       "      <td>1.000000</td>\n",
       "    </tr>\n",
       "  </tbody>\n",
       "</table>\n",
       "</div>"
      ],
      "text/plain": [
       "         RowNumber    CustomerId   CreditScore           Age        Tenure  \\\n",
       "count  10000.00000  1.000000e+04  10000.000000  10000.000000  10000.000000   \n",
       "mean    5000.50000  1.569094e+07    650.528800     38.921800      5.012800   \n",
       "std     2886.89568  7.193619e+04     96.653299     10.487806      2.892174   \n",
       "min        1.00000  1.556570e+07    350.000000     18.000000      0.000000   \n",
       "25%     2500.75000  1.562853e+07    584.000000     32.000000      3.000000   \n",
       "50%     5000.50000  1.569074e+07    652.000000     37.000000      5.000000   \n",
       "75%     7500.25000  1.575323e+07    718.000000     44.000000      7.000000   \n",
       "max    10000.00000  1.581569e+07    850.000000     92.000000     10.000000   \n",
       "\n",
       "             Balance  NumOfProducts    HasCrCard  IsActiveMember  \\\n",
       "count   10000.000000   10000.000000  10000.00000    10000.000000   \n",
       "mean    76485.889288       1.530200      0.70550        0.515100   \n",
       "std     62397.405202       0.581654      0.45584        0.499797   \n",
       "min         0.000000       1.000000      0.00000        0.000000   \n",
       "25%         0.000000       1.000000      0.00000        0.000000   \n",
       "50%     97198.540000       1.000000      1.00000        1.000000   \n",
       "75%    127644.240000       2.000000      1.00000        1.000000   \n",
       "max    250898.090000       4.000000      1.00000        1.000000   \n",
       "\n",
       "       EstimatedSalary        Exited  \n",
       "count     10000.000000  10000.000000  \n",
       "mean     100090.239881      0.203700  \n",
       "std       57510.492818      0.402769  \n",
       "min          11.580000      0.000000  \n",
       "25%       51002.110000      0.000000  \n",
       "50%      100193.915000      0.000000  \n",
       "75%      149388.247500      0.000000  \n",
       "max      199992.480000      1.000000  "
      ]
     },
     "execution_count": 5,
     "metadata": {},
     "output_type": "execute_result"
    }
   ],
   "source": [
    "df.describe()"
   ]
  },
  {
   "cell_type": "code",
   "execution_count": 6,
   "id": "14f20421",
   "metadata": {
    "id": "14f20421",
    "outputId": "49ed7433-3a8a-4b73-e3fd-cf2bc80c607b"
   },
   "outputs": [
    {
     "data": {
      "text/plain": [
       "RowNumber          0\n",
       "CustomerId         0\n",
       "Surname            0\n",
       "CreditScore        0\n",
       "Geography          0\n",
       "Gender             0\n",
       "Age                0\n",
       "Tenure             0\n",
       "Balance            0\n",
       "NumOfProducts      0\n",
       "HasCrCard          0\n",
       "IsActiveMember     0\n",
       "EstimatedSalary    0\n",
       "Exited             0\n",
       "dtype: int64"
      ]
     },
     "execution_count": 6,
     "metadata": {},
     "output_type": "execute_result"
    }
   ],
   "source": [
    "df.isnull().sum()"
   ]
  },
  {
   "cell_type": "code",
   "execution_count": 7,
   "id": "1ca72a6c",
   "metadata": {
    "id": "1ca72a6c",
    "outputId": "fb52890f-4bf0-4001-8f59-32675095f4b0"
   },
   "outputs": [
    {
     "name": "stdout",
     "output_type": "stream",
     "text": [
      "<class 'pandas.core.frame.DataFrame'>\n",
      "RangeIndex: 10000 entries, 0 to 9999\n",
      "Data columns (total 14 columns):\n",
      " #   Column           Non-Null Count  Dtype  \n",
      "---  ------           --------------  -----  \n",
      " 0   RowNumber        10000 non-null  int64  \n",
      " 1   CustomerId       10000 non-null  int64  \n",
      " 2   Surname          10000 non-null  object \n",
      " 3   CreditScore      10000 non-null  int64  \n",
      " 4   Geography        10000 non-null  object \n",
      " 5   Gender           10000 non-null  object \n",
      " 6   Age              10000 non-null  int64  \n",
      " 7   Tenure           10000 non-null  int64  \n",
      " 8   Balance          10000 non-null  float64\n",
      " 9   NumOfProducts    10000 non-null  int64  \n",
      " 10  HasCrCard        10000 non-null  int64  \n",
      " 11  IsActiveMember   10000 non-null  int64  \n",
      " 12  EstimatedSalary  10000 non-null  float64\n",
      " 13  Exited           10000 non-null  int64  \n",
      "dtypes: float64(2), int64(9), object(3)\n",
      "memory usage: 1.1+ MB\n"
     ]
    }
   ],
   "source": [
    "df.info()"
   ]
  },
  {
   "cell_type": "code",
   "execution_count": 8,
   "id": "8d245f53",
   "metadata": {
    "id": "8d245f53",
    "outputId": "91a9b5fb-8670-4a6f-f431-44bec222afbc"
   },
   "outputs": [
    {
     "data": {
      "text/plain": [
       "RowNumber            int64\n",
       "CustomerId           int64\n",
       "Surname             object\n",
       "CreditScore          int64\n",
       "Geography           object\n",
       "Gender              object\n",
       "Age                  int64\n",
       "Tenure               int64\n",
       "Balance            float64\n",
       "NumOfProducts        int64\n",
       "HasCrCard            int64\n",
       "IsActiveMember       int64\n",
       "EstimatedSalary    float64\n",
       "Exited               int64\n",
       "dtype: object"
      ]
     },
     "execution_count": 8,
     "metadata": {},
     "output_type": "execute_result"
    }
   ],
   "source": [
    "df.dtypes"
   ]
  },
  {
   "cell_type": "code",
   "execution_count": 9,
   "id": "3605de14",
   "metadata": {
    "id": "3605de14",
    "outputId": "886ca2f4-fdd5-4077-830c-98d5adf0b453"
   },
   "outputs": [
    {
     "data": {
      "text/plain": [
       "Index(['RowNumber', 'CustomerId', 'Surname', 'CreditScore', 'Geography',\n",
       "       'Gender', 'Age', 'Tenure', 'Balance', 'NumOfProducts', 'HasCrCard',\n",
       "       'IsActiveMember', 'EstimatedSalary', 'Exited'],\n",
       "      dtype='object')"
      ]
     },
     "execution_count": 9,
     "metadata": {},
     "output_type": "execute_result"
    }
   ],
   "source": [
    "df.columns"
   ]
  },
  {
   "cell_type": "code",
   "execution_count": 10,
   "id": "f29a1947",
   "metadata": {
    "id": "f29a1947"
   },
   "outputs": [],
   "source": [
    "df = df.drop(['RowNumber', 'Surname', 'CustomerId'], axis= 1) #Dropping the unnecessary columns "
   ]
  },
  {
   "cell_type": "code",
   "execution_count": 11,
   "id": "4dedec85",
   "metadata": {
    "id": "4dedec85",
    "outputId": "cf47f90a-7f2c-4195-c886-4229dd91b30f",
    "scrolled": true
   },
   "outputs": [
    {
     "data": {
      "text/html": [
       "<div>\n",
       "<style scoped>\n",
       "    .dataframe tbody tr th:only-of-type {\n",
       "        vertical-align: middle;\n",
       "    }\n",
       "\n",
       "    .dataframe tbody tr th {\n",
       "        vertical-align: top;\n",
       "    }\n",
       "\n",
       "    .dataframe thead th {\n",
       "        text-align: right;\n",
       "    }\n",
       "</style>\n",
       "<table border=\"1\" class=\"dataframe\">\n",
       "  <thead>\n",
       "    <tr style=\"text-align: right;\">\n",
       "      <th></th>\n",
       "      <th>CreditScore</th>\n",
       "      <th>Geography</th>\n",
       "      <th>Gender</th>\n",
       "      <th>Age</th>\n",
       "      <th>Tenure</th>\n",
       "      <th>Balance</th>\n",
       "      <th>NumOfProducts</th>\n",
       "      <th>HasCrCard</th>\n",
       "      <th>IsActiveMember</th>\n",
       "      <th>EstimatedSalary</th>\n",
       "      <th>Exited</th>\n",
       "    </tr>\n",
       "  </thead>\n",
       "  <tbody>\n",
       "    <tr>\n",
       "      <th>0</th>\n",
       "      <td>619</td>\n",
       "      <td>France</td>\n",
       "      <td>Female</td>\n",
       "      <td>42</td>\n",
       "      <td>2</td>\n",
       "      <td>0.00</td>\n",
       "      <td>1</td>\n",
       "      <td>1</td>\n",
       "      <td>1</td>\n",
       "      <td>101348.88</td>\n",
       "      <td>1</td>\n",
       "    </tr>\n",
       "    <tr>\n",
       "      <th>1</th>\n",
       "      <td>608</td>\n",
       "      <td>Spain</td>\n",
       "      <td>Female</td>\n",
       "      <td>41</td>\n",
       "      <td>1</td>\n",
       "      <td>83807.86</td>\n",
       "      <td>1</td>\n",
       "      <td>0</td>\n",
       "      <td>1</td>\n",
       "      <td>112542.58</td>\n",
       "      <td>0</td>\n",
       "    </tr>\n",
       "    <tr>\n",
       "      <th>2</th>\n",
       "      <td>502</td>\n",
       "      <td>France</td>\n",
       "      <td>Female</td>\n",
       "      <td>42</td>\n",
       "      <td>8</td>\n",
       "      <td>159660.80</td>\n",
       "      <td>3</td>\n",
       "      <td>1</td>\n",
       "      <td>0</td>\n",
       "      <td>113931.57</td>\n",
       "      <td>1</td>\n",
       "    </tr>\n",
       "    <tr>\n",
       "      <th>3</th>\n",
       "      <td>699</td>\n",
       "      <td>France</td>\n",
       "      <td>Female</td>\n",
       "      <td>39</td>\n",
       "      <td>1</td>\n",
       "      <td>0.00</td>\n",
       "      <td>2</td>\n",
       "      <td>0</td>\n",
       "      <td>0</td>\n",
       "      <td>93826.63</td>\n",
       "      <td>0</td>\n",
       "    </tr>\n",
       "    <tr>\n",
       "      <th>4</th>\n",
       "      <td>850</td>\n",
       "      <td>Spain</td>\n",
       "      <td>Female</td>\n",
       "      <td>43</td>\n",
       "      <td>2</td>\n",
       "      <td>125510.82</td>\n",
       "      <td>1</td>\n",
       "      <td>1</td>\n",
       "      <td>1</td>\n",
       "      <td>79084.10</td>\n",
       "      <td>0</td>\n",
       "    </tr>\n",
       "  </tbody>\n",
       "</table>\n",
       "</div>"
      ],
      "text/plain": [
       "   CreditScore Geography  Gender  Age  Tenure    Balance  NumOfProducts  \\\n",
       "0          619    France  Female   42       2       0.00              1   \n",
       "1          608     Spain  Female   41       1   83807.86              1   \n",
       "2          502    France  Female   42       8  159660.80              3   \n",
       "3          699    France  Female   39       1       0.00              2   \n",
       "4          850     Spain  Female   43       2  125510.82              1   \n",
       "\n",
       "   HasCrCard  IsActiveMember  EstimatedSalary  Exited  \n",
       "0          1               1        101348.88       1  \n",
       "1          0               1        112542.58       0  \n",
       "2          1               0        113931.57       1  \n",
       "3          0               0         93826.63       0  \n",
       "4          1               1         79084.10       0  "
      ]
     },
     "execution_count": 11,
     "metadata": {},
     "output_type": "execute_result"
    }
   ],
   "source": [
    "df.head()"
   ]
  },
  {
   "cell_type": "markdown",
   "id": "cd5a1362",
   "metadata": {
    "id": "cd5a1362"
   },
   "source": [
    "### Converting the Categorical Variables"
   ]
  },
  {
   "cell_type": "code",
   "execution_count": 12,
   "id": "559284dd",
   "metadata": {},
   "outputs": [],
   "source": [
    "from sklearn.preprocessing import LabelEncoder\n",
    "le = LabelEncoder()\n",
    "df['Geography'] = le.fit_transform(df['Geography'])\n",
    "\n",
    "\n",
    "le1 = LabelEncoder()\n",
    "df['Gender'] = le1.fit_transform(df['Gender'])"
   ]
  },
  {
   "cell_type": "code",
   "execution_count": 13,
   "id": "bbe1f5e2",
   "metadata": {},
   "outputs": [
    {
     "data": {
      "text/html": [
       "<div>\n",
       "<style scoped>\n",
       "    .dataframe tbody tr th:only-of-type {\n",
       "        vertical-align: middle;\n",
       "    }\n",
       "\n",
       "    .dataframe tbody tr th {\n",
       "        vertical-align: top;\n",
       "    }\n",
       "\n",
       "    .dataframe thead th {\n",
       "        text-align: right;\n",
       "    }\n",
       "</style>\n",
       "<table border=\"1\" class=\"dataframe\">\n",
       "  <thead>\n",
       "    <tr style=\"text-align: right;\">\n",
       "      <th></th>\n",
       "      <th>CreditScore</th>\n",
       "      <th>Geography</th>\n",
       "      <th>Gender</th>\n",
       "      <th>Age</th>\n",
       "      <th>Tenure</th>\n",
       "      <th>Balance</th>\n",
       "      <th>NumOfProducts</th>\n",
       "      <th>HasCrCard</th>\n",
       "      <th>IsActiveMember</th>\n",
       "      <th>EstimatedSalary</th>\n",
       "      <th>Exited</th>\n",
       "    </tr>\n",
       "  </thead>\n",
       "  <tbody>\n",
       "    <tr>\n",
       "      <th>0</th>\n",
       "      <td>619</td>\n",
       "      <td>0</td>\n",
       "      <td>0</td>\n",
       "      <td>42</td>\n",
       "      <td>2</td>\n",
       "      <td>0.00</td>\n",
       "      <td>1</td>\n",
       "      <td>1</td>\n",
       "      <td>1</td>\n",
       "      <td>101348.88</td>\n",
       "      <td>1</td>\n",
       "    </tr>\n",
       "    <tr>\n",
       "      <th>1</th>\n",
       "      <td>608</td>\n",
       "      <td>2</td>\n",
       "      <td>0</td>\n",
       "      <td>41</td>\n",
       "      <td>1</td>\n",
       "      <td>83807.86</td>\n",
       "      <td>1</td>\n",
       "      <td>0</td>\n",
       "      <td>1</td>\n",
       "      <td>112542.58</td>\n",
       "      <td>0</td>\n",
       "    </tr>\n",
       "    <tr>\n",
       "      <th>2</th>\n",
       "      <td>502</td>\n",
       "      <td>0</td>\n",
       "      <td>0</td>\n",
       "      <td>42</td>\n",
       "      <td>8</td>\n",
       "      <td>159660.80</td>\n",
       "      <td>3</td>\n",
       "      <td>1</td>\n",
       "      <td>0</td>\n",
       "      <td>113931.57</td>\n",
       "      <td>1</td>\n",
       "    </tr>\n",
       "    <tr>\n",
       "      <th>3</th>\n",
       "      <td>699</td>\n",
       "      <td>0</td>\n",
       "      <td>0</td>\n",
       "      <td>39</td>\n",
       "      <td>1</td>\n",
       "      <td>0.00</td>\n",
       "      <td>2</td>\n",
       "      <td>0</td>\n",
       "      <td>0</td>\n",
       "      <td>93826.63</td>\n",
       "      <td>0</td>\n",
       "    </tr>\n",
       "    <tr>\n",
       "      <th>4</th>\n",
       "      <td>850</td>\n",
       "      <td>2</td>\n",
       "      <td>0</td>\n",
       "      <td>43</td>\n",
       "      <td>2</td>\n",
       "      <td>125510.82</td>\n",
       "      <td>1</td>\n",
       "      <td>1</td>\n",
       "      <td>1</td>\n",
       "      <td>79084.10</td>\n",
       "      <td>0</td>\n",
       "    </tr>\n",
       "  </tbody>\n",
       "</table>\n",
       "</div>"
      ],
      "text/plain": [
       "   CreditScore  Geography  Gender  Age  Tenure    Balance  NumOfProducts  \\\n",
       "0          619          0       0   42       2       0.00              1   \n",
       "1          608          2       0   41       1   83807.86              1   \n",
       "2          502          0       0   42       8  159660.80              3   \n",
       "3          699          0       0   39       1       0.00              2   \n",
       "4          850          2       0   43       2  125510.82              1   \n",
       "\n",
       "   HasCrCard  IsActiveMember  EstimatedSalary  Exited  \n",
       "0          1               1        101348.88       1  \n",
       "1          0               1        112542.58       0  \n",
       "2          1               0        113931.57       1  \n",
       "3          0               0         93826.63       0  \n",
       "4          1               1         79084.10       0  "
      ]
     },
     "execution_count": 13,
     "metadata": {},
     "output_type": "execute_result"
    }
   ],
   "source": [
    "df.head()"
   ]
  },
  {
   "cell_type": "markdown",
   "id": "9840f548",
   "metadata": {
    "id": "9840f548"
   },
   "source": [
    "## 2. Distinguish the feature and target set and divide the data set into training and test sets."
   ]
  },
  {
   "cell_type": "code",
   "execution_count": 14,
   "id": "635c9e38",
   "metadata": {},
   "outputs": [],
   "source": [
    "x = df.drop('Exited',axis=1)\n",
    "y = df['Exited']"
   ]
  },
  {
   "cell_type": "code",
   "execution_count": 15,
   "id": "3be9746b",
   "metadata": {},
   "outputs": [],
   "source": [
    "from sklearn.model_selection import train_test_split\n",
    "x_train,x_test,y_train,y_test = train_test_split(x,y,test_size=0.3)"
   ]
  },
  {
   "cell_type": "markdown",
   "id": "3f57ac21",
   "metadata": {
    "id": "3f57ac21"
   },
   "source": [
    "## 3. Normalize the train and test data."
   ]
  },
  {
   "cell_type": "code",
   "execution_count": 16,
   "id": "5ec5fe2a",
   "metadata": {
    "id": "5ec5fe2a"
   },
   "outputs": [],
   "source": [
    "from sklearn.preprocessing import StandardScaler\n",
    "sc = StandardScaler()"
   ]
  },
  {
   "cell_type": "code",
   "execution_count": 17,
   "id": "5660c8ea",
   "metadata": {
    "id": "5660c8ea"
   },
   "outputs": [],
   "source": [
    "x_train  = sc.fit_transform(x_train)\n",
    "x_test = sc.transform(x_test)"
   ]
  },
  {
   "cell_type": "code",
   "execution_count": 18,
   "id": "2f81f2d2",
   "metadata": {},
   "outputs": [
    {
     "data": {
      "text/plain": [
       "(7000, 10)"
      ]
     },
     "execution_count": 18,
     "metadata": {},
     "output_type": "execute_result"
    }
   ],
   "source": [
    "x_train.shape"
   ]
  },
  {
   "cell_type": "markdown",
   "id": "28bb6477",
   "metadata": {
    "id": "28bb6477"
   },
   "source": [
    "## 4. Initialize and build the model. Identify the points of improvement and implement the same."
   ]
  },
  {
   "cell_type": "code",
   "execution_count": 19,
   "id": "28a7bc7a",
   "metadata": {
    "id": "28a7bc7a"
   },
   "outputs": [
    {
     "name": "stderr",
     "output_type": "stream",
     "text": [
      "2022-11-15 17:45:39.499765: I tensorflow/core/platform/cpu_feature_guard.cc:193] This TensorFlow binary is optimized with oneAPI Deep Neural Network Library (oneDNN) to use the following CPU instructions in performance-critical operations:  AVX2 FMA\n",
      "To enable them in other operations, rebuild TensorFlow with the appropriate compiler flags.\n",
      "2022-11-15 17:45:39.757794: W tensorflow/stream_executor/platform/default/dso_loader.cc:64] Could not load dynamic library 'libcudart.so.11.0'; dlerror: libcudart.so.11.0: cannot open shared object file: No such file or directory\n",
      "2022-11-15 17:45:39.757822: I tensorflow/stream_executor/cuda/cudart_stub.cc:29] Ignore above cudart dlerror if you do not have a GPU set up on your machine.\n",
      "2022-11-15 17:45:39.791659: E tensorflow/stream_executor/cuda/cuda_blas.cc:2981] Unable to register cuBLAS factory: Attempting to register factory for plugin cuBLAS when one has already been registered\n",
      "2022-11-15 17:45:40.408599: W tensorflow/stream_executor/platform/default/dso_loader.cc:64] Could not load dynamic library 'libnvinfer.so.7'; dlerror: libnvinfer.so.7: cannot open shared object file: No such file or directory\n",
      "2022-11-15 17:45:40.408675: W tensorflow/stream_executor/platform/default/dso_loader.cc:64] Could not load dynamic library 'libnvinfer_plugin.so.7'; dlerror: libnvinfer_plugin.so.7: cannot open shared object file: No such file or directory\n",
      "2022-11-15 17:45:40.408682: W tensorflow/compiler/tf2tensorrt/utils/py_utils.cc:38] TF-TRT Warning: Cannot dlopen some TensorRT libraries. If you would like to use Nvidia GPU with TensorRT, please make sure the missing libraries mentioned above are installed properly.\n"
     ]
    }
   ],
   "source": [
    "import keras "
   ]
  },
  {
   "cell_type": "code",
   "execution_count": 20,
   "id": "63ce4558",
   "metadata": {
    "id": "63ce4558"
   },
   "outputs": [],
   "source": [
    "from keras.models import Sequential #To create sequential neural network\n",
    "from keras.layers import Dense #To create hidden layers"
   ]
  },
  {
   "cell_type": "code",
   "execution_count": 21,
   "id": "4b76c323",
   "metadata": {},
   "outputs": [
    {
     "name": "stdout",
     "output_type": "stream",
     "text": [
      "Model: \"sequential\"\n",
      "_________________________________________________________________\n",
      " Layer (type)                Output Shape              Param #   \n",
      "=================================================================\n",
      " dense (Dense)               (None, 16)                176       \n",
      "                                                                 \n",
      " dense_1 (Dense)             (None, 16)                272       \n",
      "                                                                 \n",
      " dense_2 (Dense)             (None, 1)                 17        \n",
      "                                                                 \n",
      "=================================================================\n",
      "Total params: 465\n",
      "Trainable params: 465\n",
      "Non-trainable params: 0\n",
      "_________________________________________________________________\n"
     ]
    },
    {
     "name": "stderr",
     "output_type": "stream",
     "text": [
      "2022-11-15 17:45:44.729131: I tensorflow/stream_executor/cuda/cuda_gpu_executor.cc:980] successful NUMA node read from SysFS had negative value (-1), but there must be at least one NUMA node, so returning NUMA node zero\n",
      "2022-11-15 17:45:44.730237: W tensorflow/stream_executor/platform/default/dso_loader.cc:64] Could not load dynamic library 'libcudart.so.11.0'; dlerror: libcudart.so.11.0: cannot open shared object file: No such file or directory\n",
      "2022-11-15 17:45:44.730426: W tensorflow/stream_executor/platform/default/dso_loader.cc:64] Could not load dynamic library 'libcublas.so.11'; dlerror: libcublas.so.11: cannot open shared object file: No such file or directory\n",
      "2022-11-15 17:45:44.730581: W tensorflow/stream_executor/platform/default/dso_loader.cc:64] Could not load dynamic library 'libcublasLt.so.11'; dlerror: libcublasLt.so.11: cannot open shared object file: No such file or directory\n",
      "2022-11-15 17:45:44.730718: W tensorflow/stream_executor/platform/default/dso_loader.cc:64] Could not load dynamic library 'libcufft.so.10'; dlerror: libcufft.so.10: cannot open shared object file: No such file or directory\n",
      "2022-11-15 17:45:44.730850: W tensorflow/stream_executor/platform/default/dso_loader.cc:64] Could not load dynamic library 'libcurand.so.10'; dlerror: libcurand.so.10: cannot open shared object file: No such file or directory\n",
      "2022-11-15 17:45:44.730985: W tensorflow/stream_executor/platform/default/dso_loader.cc:64] Could not load dynamic library 'libcusolver.so.11'; dlerror: libcusolver.so.11: cannot open shared object file: No such file or directory\n",
      "2022-11-15 17:45:44.731116: W tensorflow/stream_executor/platform/default/dso_loader.cc:64] Could not load dynamic library 'libcusparse.so.11'; dlerror: libcusparse.so.11: cannot open shared object file: No such file or directory\n",
      "2022-11-15 17:45:44.731244: W tensorflow/stream_executor/platform/default/dso_loader.cc:64] Could not load dynamic library 'libcudnn.so.8'; dlerror: libcudnn.so.8: cannot open shared object file: No such file or directory\n",
      "2022-11-15 17:45:44.731268: W tensorflow/core/common_runtime/gpu/gpu_device.cc:1934] Cannot dlopen some GPU libraries. Please make sure the missing libraries mentioned above are installed properly if you would like to use GPU. Follow the guide at https://www.tensorflow.org/install/gpu for how to download and setup the required libraries for your platform.\n",
      "Skipping registering GPU devices...\n",
      "2022-11-15 17:45:44.732152: I tensorflow/core/platform/cpu_feature_guard.cc:193] This TensorFlow binary is optimized with oneAPI Deep Neural Network Library (oneDNN) to use the following CPU instructions in performance-critical operations:  AVX2 FMA\n",
      "To enable them in other operations, rebuild TensorFlow with the appropriate compiler flags.\n"
     ]
    }
   ],
   "source": [
    "model = Sequential()\n",
    "model.add(Dense(16, input_shape=(x_train.shape[1],), activation='relu')) # Add an input shape! (features,)\n",
    "model.add(Dense(16, activation='relu'))\n",
    "model.add(Dense(1, activation='sigmoid'))\n",
    "model.summary() "
   ]
  },
  {
   "cell_type": "code",
   "execution_count": 22,
   "id": "65ef4cf6",
   "metadata": {},
   "outputs": [],
   "source": [
    "model.compile(optimizer='Adam', loss='binary_crossentropy',metrics=['accuracy'])"
   ]
  },
  {
   "cell_type": "code",
   "execution_count": 23,
   "id": "fd79a34c",
   "metadata": {},
   "outputs": [
    {
     "name": "stdout",
     "output_type": "stream",
     "text": [
      "Epoch 1/80\n",
      "560/560 [==============================] - 2s 2ms/step - loss: 0.5186 - accuracy: 0.7675 - val_loss: 0.4381 - val_accuracy: 0.8171\n",
      "Epoch 2/80\n",
      "560/560 [==============================] - 1s 2ms/step - loss: 0.4149 - accuracy: 0.8270 - val_loss: 0.4101 - val_accuracy: 0.8257\n",
      "Epoch 3/80\n",
      "560/560 [==============================] - 1s 2ms/step - loss: 0.3864 - accuracy: 0.8427 - val_loss: 0.3917 - val_accuracy: 0.8371\n",
      "Epoch 4/80\n",
      "560/560 [==============================] - 1s 2ms/step - loss: 0.3683 - accuracy: 0.8511 - val_loss: 0.3797 - val_accuracy: 0.8443\n",
      "Epoch 5/80\n",
      "560/560 [==============================] - 1s 2ms/step - loss: 0.3579 - accuracy: 0.8545 - val_loss: 0.3721 - val_accuracy: 0.8421\n",
      "Epoch 6/80\n",
      "560/560 [==============================] - 1s 2ms/step - loss: 0.3502 - accuracy: 0.8586 - val_loss: 0.3647 - val_accuracy: 0.8436\n",
      "Epoch 7/80\n",
      "560/560 [==============================] - 1s 2ms/step - loss: 0.3452 - accuracy: 0.8630 - val_loss: 0.3592 - val_accuracy: 0.8450\n",
      "Epoch 8/80\n",
      "560/560 [==============================] - 1s 2ms/step - loss: 0.3407 - accuracy: 0.8634 - val_loss: 0.3568 - val_accuracy: 0.8479\n",
      "Epoch 9/80\n",
      "560/560 [==============================] - 1s 2ms/step - loss: 0.3372 - accuracy: 0.8650 - val_loss: 0.3567 - val_accuracy: 0.8457\n",
      "Epoch 10/80\n",
      "560/560 [==============================] - 1s 2ms/step - loss: 0.3360 - accuracy: 0.8629 - val_loss: 0.3538 - val_accuracy: 0.8457\n",
      "Epoch 11/80\n",
      "560/560 [==============================] - 1s 2ms/step - loss: 0.3323 - accuracy: 0.8666 - val_loss: 0.3515 - val_accuracy: 0.8457\n",
      "Epoch 12/80\n",
      "560/560 [==============================] - 1s 2ms/step - loss: 0.3310 - accuracy: 0.8682 - val_loss: 0.3544 - val_accuracy: 0.8457\n",
      "Epoch 13/80\n",
      "560/560 [==============================] - 1s 2ms/step - loss: 0.3298 - accuracy: 0.8670 - val_loss: 0.3495 - val_accuracy: 0.8564\n",
      "Epoch 14/80\n",
      "560/560 [==============================] - 1s 2ms/step - loss: 0.3275 - accuracy: 0.8654 - val_loss: 0.3495 - val_accuracy: 0.8543\n",
      "Epoch 15/80\n",
      "560/560 [==============================] - 1s 2ms/step - loss: 0.3262 - accuracy: 0.8677 - val_loss: 0.3460 - val_accuracy: 0.8529\n",
      "Epoch 16/80\n",
      "560/560 [==============================] - 1s 2ms/step - loss: 0.3241 - accuracy: 0.8696 - val_loss: 0.3511 - val_accuracy: 0.8550\n",
      "Epoch 17/80\n",
      "560/560 [==============================] - 1s 2ms/step - loss: 0.3241 - accuracy: 0.8671 - val_loss: 0.3459 - val_accuracy: 0.8550\n",
      "Epoch 18/80\n",
      "560/560 [==============================] - 1s 2ms/step - loss: 0.3236 - accuracy: 0.8704 - val_loss: 0.3508 - val_accuracy: 0.8493\n",
      "Epoch 19/80\n",
      "560/560 [==============================] - 1s 3ms/step - loss: 0.3217 - accuracy: 0.8691 - val_loss: 0.3496 - val_accuracy: 0.8536\n",
      "Epoch 20/80\n",
      "560/560 [==============================] - 2s 3ms/step - loss: 0.3218 - accuracy: 0.8696 - val_loss: 0.3507 - val_accuracy: 0.8557\n",
      "Epoch 21/80\n",
      "560/560 [==============================] - 1s 3ms/step - loss: 0.3207 - accuracy: 0.8689 - val_loss: 0.3480 - val_accuracy: 0.8579\n",
      "Epoch 22/80\n",
      "560/560 [==============================] - 2s 3ms/step - loss: 0.3200 - accuracy: 0.8684 - val_loss: 0.3494 - val_accuracy: 0.8586\n",
      "Epoch 23/80\n",
      "560/560 [==============================] - 1s 3ms/step - loss: 0.3196 - accuracy: 0.8679 - val_loss: 0.3484 - val_accuracy: 0.8579\n",
      "Epoch 24/80\n",
      "560/560 [==============================] - 1s 3ms/step - loss: 0.3188 - accuracy: 0.8684 - val_loss: 0.3483 - val_accuracy: 0.8557\n",
      "Epoch 25/80\n",
      "560/560 [==============================] - 2s 3ms/step - loss: 0.3181 - accuracy: 0.8689 - val_loss: 0.3528 - val_accuracy: 0.8557\n",
      "Epoch 26/80\n",
      "560/560 [==============================] - 2s 3ms/step - loss: 0.3182 - accuracy: 0.8693 - val_loss: 0.3519 - val_accuracy: 0.8521\n",
      "Epoch 27/80\n",
      "560/560 [==============================] - 1s 3ms/step - loss: 0.3170 - accuracy: 0.8718 - val_loss: 0.3482 - val_accuracy: 0.8550\n",
      "Epoch 28/80\n",
      "560/560 [==============================] - 1s 3ms/step - loss: 0.3155 - accuracy: 0.8707 - val_loss: 0.3493 - val_accuracy: 0.8479\n",
      "Epoch 29/80\n",
      "560/560 [==============================] - 1s 3ms/step - loss: 0.3164 - accuracy: 0.8705 - val_loss: 0.3519 - val_accuracy: 0.8571\n",
      "Epoch 30/80\n",
      "560/560 [==============================] - 1s 2ms/step - loss: 0.3158 - accuracy: 0.8693 - val_loss: 0.3505 - val_accuracy: 0.8579\n",
      "Epoch 31/80\n",
      "560/560 [==============================] - 1s 3ms/step - loss: 0.3151 - accuracy: 0.8736 - val_loss: 0.3524 - val_accuracy: 0.8500\n",
      "Epoch 32/80\n",
      "560/560 [==============================] - 1s 2ms/step - loss: 0.3143 - accuracy: 0.8689 - val_loss: 0.3483 - val_accuracy: 0.8593\n",
      "Epoch 33/80\n",
      "560/560 [==============================] - 1s 3ms/step - loss: 0.3149 - accuracy: 0.8721 - val_loss: 0.3498 - val_accuracy: 0.8586\n",
      "Epoch 34/80\n",
      "560/560 [==============================] - 2s 3ms/step - loss: 0.3136 - accuracy: 0.8707 - val_loss: 0.3495 - val_accuracy: 0.8571\n",
      "Epoch 35/80\n",
      "560/560 [==============================] - 1s 2ms/step - loss: 0.3133 - accuracy: 0.8714 - val_loss: 0.3531 - val_accuracy: 0.8571\n",
      "Epoch 36/80\n",
      "560/560 [==============================] - 1s 2ms/step - loss: 0.3137 - accuracy: 0.8727 - val_loss: 0.3555 - val_accuracy: 0.8514\n",
      "Epoch 37/80\n",
      "560/560 [==============================] - 1s 2ms/step - loss: 0.3131 - accuracy: 0.8716 - val_loss: 0.3513 - val_accuracy: 0.8607\n",
      "Epoch 38/80\n",
      "560/560 [==============================] - 1s 2ms/step - loss: 0.3125 - accuracy: 0.8734 - val_loss: 0.3536 - val_accuracy: 0.8486\n",
      "Epoch 39/80\n",
      "560/560 [==============================] - 1s 2ms/step - loss: 0.3135 - accuracy: 0.8720 - val_loss: 0.3528 - val_accuracy: 0.8493\n",
      "Epoch 40/80\n",
      "560/560 [==============================] - 2s 3ms/step - loss: 0.3116 - accuracy: 0.8716 - val_loss: 0.3547 - val_accuracy: 0.8464\n",
      "Epoch 41/80\n",
      "560/560 [==============================] - 2s 4ms/step - loss: 0.3108 - accuracy: 0.8714 - val_loss: 0.3551 - val_accuracy: 0.8514\n",
      "Epoch 42/80\n",
      "560/560 [==============================] - 2s 3ms/step - loss: 0.3112 - accuracy: 0.8720 - val_loss: 0.3560 - val_accuracy: 0.8543\n",
      "Epoch 43/80\n",
      "560/560 [==============================] - 1s 3ms/step - loss: 0.3108 - accuracy: 0.8746 - val_loss: 0.3515 - val_accuracy: 0.8557\n",
      "Epoch 44/80\n",
      "560/560 [==============================] - 2s 3ms/step - loss: 0.3102 - accuracy: 0.8729 - val_loss: 0.3541 - val_accuracy: 0.8486\n",
      "Epoch 45/80\n",
      "560/560 [==============================] - 1s 2ms/step - loss: 0.3098 - accuracy: 0.8732 - val_loss: 0.3540 - val_accuracy: 0.8514\n",
      "Epoch 46/80\n",
      "560/560 [==============================] - 1s 2ms/step - loss: 0.3094 - accuracy: 0.8736 - val_loss: 0.3559 - val_accuracy: 0.8529\n",
      "Epoch 47/80\n",
      "560/560 [==============================] - 1s 2ms/step - loss: 0.3092 - accuracy: 0.8736 - val_loss: 0.3559 - val_accuracy: 0.8521\n",
      "Epoch 48/80\n",
      "560/560 [==============================] - 1s 2ms/step - loss: 0.3096 - accuracy: 0.8709 - val_loss: 0.3568 - val_accuracy: 0.8493\n",
      "Epoch 49/80\n",
      "560/560 [==============================] - 1s 2ms/step - loss: 0.3075 - accuracy: 0.8716 - val_loss: 0.3579 - val_accuracy: 0.8543\n",
      "Epoch 50/80\n",
      "560/560 [==============================] - 1s 2ms/step - loss: 0.3075 - accuracy: 0.8725 - val_loss: 0.3571 - val_accuracy: 0.8550\n",
      "Epoch 51/80\n",
      "560/560 [==============================] - 1s 2ms/step - loss: 0.3083 - accuracy: 0.8750 - val_loss: 0.3571 - val_accuracy: 0.8514\n",
      "Epoch 52/80\n",
      "560/560 [==============================] - 1s 2ms/step - loss: 0.3066 - accuracy: 0.8750 - val_loss: 0.3578 - val_accuracy: 0.8500\n",
      "Epoch 53/80\n",
      "560/560 [==============================] - 1s 2ms/step - loss: 0.3075 - accuracy: 0.8712 - val_loss: 0.3552 - val_accuracy: 0.8543\n",
      "Epoch 54/80\n",
      "560/560 [==============================] - 1s 2ms/step - loss: 0.3047 - accuracy: 0.8766 - val_loss: 0.3680 - val_accuracy: 0.8507\n",
      "Epoch 55/80\n",
      "560/560 [==============================] - 1s 2ms/step - loss: 0.3072 - accuracy: 0.8727 - val_loss: 0.3599 - val_accuracy: 0.8521\n",
      "Epoch 56/80\n",
      "560/560 [==============================] - 1s 2ms/step - loss: 0.3063 - accuracy: 0.8737 - val_loss: 0.3579 - val_accuracy: 0.8536\n",
      "Epoch 57/80\n",
      "560/560 [==============================] - 1s 2ms/step - loss: 0.3061 - accuracy: 0.8737 - val_loss: 0.3589 - val_accuracy: 0.8550\n",
      "Epoch 58/80\n"
     ]
    },
    {
     "name": "stdout",
     "output_type": "stream",
     "text": [
      "560/560 [==============================] - 1s 2ms/step - loss: 0.3046 - accuracy: 0.8741 - val_loss: 0.3614 - val_accuracy: 0.8543\n",
      "Epoch 59/80\n",
      "560/560 [==============================] - 1s 2ms/step - loss: 0.3054 - accuracy: 0.8725 - val_loss: 0.3596 - val_accuracy: 0.8471\n",
      "Epoch 60/80\n",
      "560/560 [==============================] - 1s 2ms/step - loss: 0.3042 - accuracy: 0.8759 - val_loss: 0.3585 - val_accuracy: 0.8521\n",
      "Epoch 61/80\n",
      "560/560 [==============================] - 1s 2ms/step - loss: 0.3028 - accuracy: 0.8732 - val_loss: 0.3663 - val_accuracy: 0.8536\n",
      "Epoch 62/80\n",
      "560/560 [==============================] - 1s 2ms/step - loss: 0.3043 - accuracy: 0.8734 - val_loss: 0.3606 - val_accuracy: 0.8500\n",
      "Epoch 63/80\n",
      "560/560 [==============================] - 1s 2ms/step - loss: 0.3042 - accuracy: 0.8741 - val_loss: 0.3614 - val_accuracy: 0.8536\n",
      "Epoch 64/80\n",
      "560/560 [==============================] - 1s 2ms/step - loss: 0.3037 - accuracy: 0.8739 - val_loss: 0.3605 - val_accuracy: 0.8471\n",
      "Epoch 65/80\n",
      "560/560 [==============================] - 1s 2ms/step - loss: 0.3030 - accuracy: 0.8754 - val_loss: 0.3603 - val_accuracy: 0.8486\n",
      "Epoch 66/80\n",
      "560/560 [==============================] - 1s 2ms/step - loss: 0.3036 - accuracy: 0.8707 - val_loss: 0.3607 - val_accuracy: 0.8521\n",
      "Epoch 67/80\n",
      "560/560 [==============================] - 1s 2ms/step - loss: 0.3026 - accuracy: 0.8768 - val_loss: 0.3604 - val_accuracy: 0.8521\n",
      "Epoch 68/80\n",
      "560/560 [==============================] - 1s 2ms/step - loss: 0.3032 - accuracy: 0.8750 - val_loss: 0.3623 - val_accuracy: 0.8529\n",
      "Epoch 69/80\n",
      "560/560 [==============================] - 1s 2ms/step - loss: 0.3022 - accuracy: 0.8757 - val_loss: 0.3648 - val_accuracy: 0.8529\n",
      "Epoch 70/80\n",
      "560/560 [==============================] - 1s 2ms/step - loss: 0.3028 - accuracy: 0.8764 - val_loss: 0.3613 - val_accuracy: 0.8543\n",
      "Epoch 71/80\n",
      "560/560 [==============================] - 1s 2ms/step - loss: 0.3015 - accuracy: 0.8754 - val_loss: 0.3635 - val_accuracy: 0.8500\n",
      "Epoch 72/80\n",
      "560/560 [==============================] - 1s 2ms/step - loss: 0.3022 - accuracy: 0.8732 - val_loss: 0.3607 - val_accuracy: 0.8543\n",
      "Epoch 73/80\n",
      "560/560 [==============================] - 1s 2ms/step - loss: 0.3011 - accuracy: 0.8750 - val_loss: 0.3597 - val_accuracy: 0.8543\n",
      "Epoch 74/80\n",
      "560/560 [==============================] - 1s 2ms/step - loss: 0.3016 - accuracy: 0.8745 - val_loss: 0.3611 - val_accuracy: 0.8536\n",
      "Epoch 75/80\n",
      "560/560 [==============================] - 1s 2ms/step - loss: 0.3011 - accuracy: 0.8755 - val_loss: 0.3624 - val_accuracy: 0.8543\n",
      "Epoch 76/80\n",
      "560/560 [==============================] - 1s 2ms/step - loss: 0.3014 - accuracy: 0.8763 - val_loss: 0.3652 - val_accuracy: 0.8500\n",
      "Epoch 77/80\n",
      "560/560 [==============================] - 1s 2ms/step - loss: 0.3006 - accuracy: 0.8757 - val_loss: 0.3668 - val_accuracy: 0.8500\n",
      "Epoch 78/80\n",
      "560/560 [==============================] - 1s 2ms/step - loss: 0.3011 - accuracy: 0.8745 - val_loss: 0.3628 - val_accuracy: 0.8536\n",
      "Epoch 79/80\n",
      "560/560 [==============================] - 1s 2ms/step - loss: 0.3002 - accuracy: 0.8754 - val_loss: 0.3622 - val_accuracy: 0.8564\n",
      "Epoch 80/80\n",
      "560/560 [==============================] - 1s 2ms/step - loss: 0.2999 - accuracy: 0.8750 - val_loss: 0.3661 - val_accuracy: 0.8507\n"
     ]
    }
   ],
   "source": [
    "# ignore comments in this cell\n",
    "\n",
    "# compile the model\n",
    "\n",
    "# early stopping callback\n",
    "# This callback will stop the training when there is no improvement in  \n",
    "# the validation loss for 10 consecutive epochs.\n",
    "\n",
    "\n",
    "#es = EarlyStopping(monitor='val_accuracy', mode='max',patience=10,restore_best_weights=True)\n",
    "\n",
    "\n",
    "# now we just update our model fit call\n",
    "\n",
    "history = model.fit(x_train,y_train,epochs=80,batch_size=10,validation_split=0.2,shuffle=True)"
   ]
  },
  {
   "cell_type": "markdown",
   "id": "a6d21b70",
   "metadata": {},
   "source": [
    "## 5. Print the accuracy score and confusion matrix"
   ]
  },
  {
   "cell_type": "code",
   "execution_count": 24,
   "id": "425a7f07",
   "metadata": {
    "id": "425a7f07"
   },
   "outputs": [
    {
     "name": "stdout",
     "output_type": "stream",
     "text": [
      "94/94 [==============================] - 0s 1ms/step\n"
     ]
    }
   ],
   "source": [
    "y_pred =model.predict(x_test)"
   ]
  },
  {
   "cell_type": "code",
   "execution_count": 25,
   "id": "289a96f3",
   "metadata": {},
   "outputs": [],
   "source": [
    "y_pred = (y_pred > 0.5) #Predicting the result"
   ]
  },
  {
   "cell_type": "code",
   "execution_count": 26,
   "id": "8e9c2742",
   "metadata": {
    "id": "8e9c2742"
   },
   "outputs": [],
   "source": [
    "from sklearn.metrics import confusion_matrix,accuracy_score,classification_report"
   ]
  },
  {
   "cell_type": "code",
   "execution_count": 27,
   "id": "8449c9fb",
   "metadata": {
    "id": "8449c9fb"
   },
   "outputs": [],
   "source": [
    "cm = confusion_matrix(y_test,y_pred)"
   ]
  },
  {
   "cell_type": "code",
   "execution_count": 28,
   "id": "0f1cbc0d",
   "metadata": {
    "id": "0f1cbc0d",
    "outputId": "a0376370-aa93-413a-e630-f61555909059"
   },
   "outputs": [
    {
     "data": {
      "text/plain": [
       "array([[2276,  115],\n",
       "       [ 341,  268]])"
      ]
     },
     "execution_count": 28,
     "metadata": {},
     "output_type": "execute_result"
    }
   ],
   "source": [
    "cm"
   ]
  },
  {
   "cell_type": "code",
   "execution_count": 34,
   "id": "7741fd39",
   "metadata": {},
   "outputs": [
    {
     "data": {
      "text/plain": [
       "<AxesSubplot:>"
      ]
     },
     "execution_count": 34,
     "metadata": {},
     "output_type": "execute_result"
    },
    {
     "data": {
      "image/png": "[encoded data removed]",
      "text/plain": [
       "<Figure size 640x480 with 2 Axes>"
      ]
     },
     "metadata": {},
     "output_type": "display_data"
    }
   ],
   "source": [
    "sns.heatmap(cm,annot=True)"
   ]
  },
  {
   "cell_type": "code",
   "execution_count": 30,
   "id": "5e08bb26",
   "metadata": {
    "id": "5e08bb26"
   },
   "outputs": [],
   "source": [
    "accuracy = accuracy_score(y_test,y_pred)"
   ]
  },
  {
   "cell_type": "code",
   "execution_count": 31,
   "id": "46799eb2",
   "metadata": {
    "id": "46799eb2",
    "outputId": "ccb776fc-4a98-4e2e-9c00-bda9f614cae3"
   },
   "outputs": [
    {
     "data": {
      "text/plain": [
       "0.848"
      ]
     },
     "execution_count": 31,
     "metadata": {},
     "output_type": "execute_result"
    }
   ],
   "source": [
    "accuracy"
   ]
  },
  {
   "cell_type": "code",
   "execution_count": 32,
   "id": "51fedf33",
   "metadata": {
    "id": "51fedf33",
    "outputId": "d6b6212e-81a8-41e5-98b6-75575de807ae"
   },
   "outputs": [
    {
     "name": "stdout",
     "output_type": "stream",
     "text": [
      "              precision    recall  f1-score   support\n",
      "\n",
      "           0       0.87      0.95      0.91      2391\n",
      "           1       0.70      0.44      0.54       609\n",
      "\n",
      "    accuracy                           0.85      3000\n",
      "   macro avg       0.78      0.70      0.72      3000\n",
      "weighted avg       0.84      0.85      0.83      3000\n",
      "\n"
     ]
    }
   ],
   "source": [
    "print(classification_report(y_test,y_pred))"
   ]
  }
 ],
 "metadata": {
  "colab": {
   "provenance": []
  },
  "kernelspec": {
   "display_name": "Python 3 (ipykernel)",
   "language": "python",
   "name": "python3"
  },
  "language_info": {
   "codemirror_mode": {
    "name": "ipython",
    "version": 3
   },
   "file_extension": ".py",
   "mimetype": "text/x-python",
   "name": "python",
   "nbconvert_exporter": "python",
   "pygments_lexer": "ipython3",
   "version": "3.9.13"
  }
 },
 "nbformat": 4,
 "nbformat_minor": 5
}
